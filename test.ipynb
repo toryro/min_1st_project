{
 "cells": [
  {
   "cell_type": "code",
   "execution_count": 2,
   "id": "ba8cfe3d",
   "metadata": {},
   "outputs": [
    {
     "name": "stdout",
     "output_type": "stream",
     "text": [
      "Ultralytics 8.3.159 🚀 Python-3.12.3 torch-2.7.1 CPU (Apple M3 Pro)\n",
      "YOLOv8n summary (fused): 72 layers, 3,151,904 parameters, 0 gradients, 8.7 GFLOPs\n",
      "\n",
      "\u001b[34m\u001b[1mPyTorch:\u001b[0m starting from '/Users/tory/Tory/02.Study/01.1team/models/yolov8n.pt' with input shape (1, 3, 640, 640) BCHW and output shape(s) (1, 84, 8400) (6.2 MB)\n",
      "\n",
      "\u001b[34m\u001b[1mONNX:\u001b[0m starting export with onnx 1.17.0 opset 17...\n",
      "\u001b[34m\u001b[1mONNX:\u001b[0m slimming with onnxslim 0.1.58...\n",
      "\u001b[34m\u001b[1mONNX:\u001b[0m export success ✅ 0.4s, saved as '/Users/tory/Tory/02.Study/01.1team/models/yolov8n.onnx' (12.2 MB)\n",
      "\n",
      "Export complete (0.6s)\n",
      "Results saved to \u001b[1m/Users/tory/Tory/02.Study/01.1team/models\u001b[0m\n",
      "Predict:         yolo predict task=detect model=/Users/tory/Tory/02.Study/01.1team/models/yolov8n.onnx imgsz=640  \n",
      "Validate:        yolo val task=detect model=/Users/tory/Tory/02.Study/01.1team/models/yolov8n.onnx imgsz=640 data=coco.yaml  \n",
      "Visualize:       https://netron.app\n"
     ]
    },
    {
     "data": {
      "text/plain": [
       "'/Users/tory/Tory/02.Study/01.1team/models/yolov8n.onnx'"
      ]
     },
     "execution_count": 2,
     "metadata": {},
     "output_type": "execute_result"
    }
   ],
   "source": [
    "\n",
    "# best.pt를 이용해서 best.onnx를 만듬.\n",
    "from ultralytics import YOLO\n",
    "\n",
    "# 모델 로딩 (경로는 필요에 따라 수정)\n",
    "#model = YOLO('./models/weights14/best.pt')\n",
    "model = YOLO('/Users/tory/Tory/02.Study/01.1team/models/yolov8n.pt')\n",
    "model.export(format='onnx', imgsz=640, half=False, simplify=True, opset=17)"
   ]
  },
  {
   "cell_type": "code",
   "execution_count": 5,
   "id": "d8ab40b6",
   "metadata": {},
   "outputs": [
    {
     "name": "stdout",
     "output_type": "stream",
     "text": [
      "모델의 입력 이름: images\n"
     ]
    }
   ],
   "source": [
    "import onnxruntime\n",
    "session = onnxruntime.InferenceSession(\"./models/yolov8n.onnx\")\n",
    "input_name = session.get_inputs()[0].name\n",
    "print(f\"모델의 입력 이름: {input_name}\")"
   ]
  }
 ],
 "metadata": {
  "kernelspec": {
   "display_name": ".min1stproject",
   "language": "python",
   "name": "python3"
  },
  "language_info": {
   "codemirror_mode": {
    "name": "ipython",
    "version": 3
   },
   "file_extension": ".py",
   "mimetype": "text/x-python",
   "name": "python",
   "nbconvert_exporter": "python",
   "pygments_lexer": "ipython3",
   "version": "3.12.3"
  }
 },
 "nbformat": 4,
 "nbformat_minor": 5
}
